{
  "nbformat": 4,
  "nbformat_minor": 0,
  "metadata": {
    "colab": {
      "provenance": []
    },
    "kernelspec": {
      "name": "python3",
      "display_name": "Python 3"
    },
    "language_info": {
      "name": "python"
    }
  },
  "cells": [
    {
      "cell_type": "markdown",
      "source": [
        "# Leetcode-202.Happy Number"
      ],
      "metadata": {
        "id": "Nr8HKVLYsFlL"
      }
    },
    {
      "cell_type": "code",
      "execution_count": 2,
      "metadata": {
        "id": "tRibukxmrmBR"
      },
      "outputs": [],
      "source": [
        "class Solution(object):\n",
        "    def isHappy(self, n):\n",
        "        \"\"\"\n",
        "        :type n: int\n",
        "        :rtype: bool\n",
        "        \"\"\"\n",
        "        seen = set()\n",
        "\n",
        "        while n != 1:\n",
        "            if n in seen:\n",
        "                return False\n",
        "            seen.add(n)\n",
        "\n",
        "            n = sum(int(digit) ** 2 for digit in str(n))\n",
        "\n",
        "        return True\n"
      ]
    },
    {
      "cell_type": "markdown",
      "source": [
        "# Leetcode-125.Valid Palindrome"
      ],
      "metadata": {
        "id": "BLFCjPI3zkvm"
      }
    },
    {
      "cell_type": "code",
      "source": [
        "class Solution(object):\n",
        "    def isPalindrome(self, s):\n",
        "        \"\"\"\n",
        "        :type s: str\n",
        "        :rtype: bool\n",
        "        \"\"\"\n",
        "        filtered_str = ''.join(char.lower() for char in s if char.isalnum())\n",
        "\n",
        "        return filtered_str == filtered_str[::-1]"
      ],
      "metadata": {
        "id": "CpSMw0-IzAB-"
      },
      "execution_count": 1,
      "outputs": []
    }
  ]
}